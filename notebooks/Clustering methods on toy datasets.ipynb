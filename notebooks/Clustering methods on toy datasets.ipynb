{
 "cells": [
  {
   "cell_type": "markdown",
   "metadata": {},
   "source": [
    "# Study in Classifiers Using Iris Dataset\n",
    "\n",
    "Author: Richard Hackathorn <richardh@bolder.com> License: BSD 3 clause\n",
    "\n",
    "Content derived from http://scikit-learn.org/ and https://github.com/rasbt/python-machine-learning-book"
   ]
  },
  {
   "cell_type": "markdown",
   "metadata": {},
   "source": [
    "## Clustering methods on toy datasets\n",
    "\n",
    "Ref: https://github.com/bokeh/bokeh/blob/master/examples/webgl/clustering.py\n",
    "\n",
    "Example inspired by an example from the scikit-learn project:\n",
    "http://scikit-learn.org/stable/auto_examples/cluster/plot_cluster_comparison.html"
   ]
  },
  {
   "cell_type": "code",
   "execution_count": 2,
   "metadata": {
    "collapsed": false
   },
   "outputs": [],
   "source": [
    "import numpy as np\n",
    "\n",
    "try:\n",
    "    from sklearn import cluster, datasets\n",
    "    from sklearn.preprocessing import StandardScaler\n",
    "except ImportError:\n",
    "    raise ImportError('This example requires scikit-learn (conda install sklearn)')\n",
    "\n",
    "from bokeh.layouts import row, column\n",
    "from bokeh.plotting import figure, show, output_file\n",
    "\n",
    "N = 50000\n",
    "PLOT_SIZE = 400\n",
    "\n",
    "# generate datasets.\n",
    "np.random.seed(0)\n",
    "noisy_circles = datasets.make_circles(n_samples=N, factor=.5, noise=.04)\n",
    "noisy_moons = datasets.make_moons(n_samples=N, noise=.05)\n",
    "centers = [(-2, 3), (2, 3), (-2, -3), (2, -3)]\n",
    "blobs1 = datasets.make_blobs(centers=centers, n_samples=N, cluster_std=0.4, random_state=8)\n",
    "blobs2 = datasets.make_blobs(centers=centers, n_samples=N, cluster_std=0.7, random_state=8)\n",
    "\n",
    "colors = np.array([x for x in ('#00f', '#0f0', '#f00', '#0ff', '#f0f', '#ff0')])\n",
    "colors = np.hstack([colors] * 20)\n",
    "\n",
    "# create clustering algorithms\n",
    "dbscan   = cluster.DBSCAN(eps=.2)\n",
    "birch    = cluster.Birch(n_clusters=2)\n",
    "means    = cluster.MiniBatchKMeans(n_clusters=2)\n",
    "spectral = cluster.SpectralClustering(n_clusters=2, eigen_solver='arpack', affinity=\"nearest_neighbors\")\n",
    "affinity = cluster.AffinityPropagation(damping=.9, preference=-200)\n",
    "\n",
    "# change here, to select clustering algorithm (note: spectral is slow)\n",
    "algorithm = dbscan  # <- SELECT ALG\n",
    "\n",
    "plots =[]\n",
    "for dataset in (noisy_circles, noisy_moons, blobs1, blobs2):\n",
    "    X, y = dataset\n",
    "    X = StandardScaler().fit_transform(X)\n",
    "\n",
    "    # predict cluster memberships\n",
    "    algorithm.fit(X)\n",
    "    if hasattr(algorithm, 'labels_'):\n",
    "        y_pred = algorithm.labels_.astype(np.int)\n",
    "    else:\n",
    "        y_pred = algorithm.predict(X)\n",
    "\n",
    "    p = figure(webgl=True, title=algorithm.__class__.__name__,\n",
    "               plot_width=PLOT_SIZE, plot_height=PLOT_SIZE)\n",
    "\n",
    "    p.scatter(X[:, 0], X[:, 1], color=colors[y_pred].tolist(), alpha=0.1,)\n",
    "\n",
    "    plots.append(p)\n",
    "\n",
    "# generate layout for the plots\n",
    "layout = column(row(plots[:2]), row(plots[2:]))\n",
    "\n",
    "output_file(\"clustering.html\", title=\"clustering with sklearn\")\n",
    "\n",
    "show(layout)"
   ]
  },
  {
   "cell_type": "code",
   "execution_count": null,
   "metadata": {
    "collapsed": true
   },
   "outputs": [],
   "source": []
  }
 ],
 "metadata": {
  "kernelspec": {
   "display_name": "Python 3",
   "language": "python",
   "name": "python3"
  },
  "language_info": {
   "codemirror_mode": {
    "name": "ipython",
    "version": 3
   },
   "file_extension": ".py",
   "mimetype": "text/x-python",
   "name": "python",
   "nbconvert_exporter": "python",
   "pygments_lexer": "ipython3",
   "version": "3.5.1"
  }
 },
 "nbformat": 4,
 "nbformat_minor": 0
}
