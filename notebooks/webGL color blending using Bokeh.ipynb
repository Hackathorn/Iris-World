{
 "cells": [
  {
   "cell_type": "markdown",
   "metadata": {},
   "source": [
    "# Study in Classifiers Using Iris Dataset\n",
    "\n",
    "Author: Richard Hackathorn <richardh@bolder.com> License: BSD 3 clause\n",
    "\n",
    "Content derived from http://scikit-learn.org/ and https://github.com/rasbt/python-machine-learning-book"
   ]
  },
  {
   "cell_type": "markdown",
   "metadata": {},
   "source": [
    "## webGL color blending\n",
    "\n",
    "Ref: https://github.com/bokeh/bokeh/blob/master/examples/webgl/iris_blend.py\n",
    "\n",
    "The iris dataset, drawn twice with semi-transparent markers. This is\n",
    "an interesting use-case to test blending, because several samples itself\n",
    "overlap, and by drawing the set twice with different colors, we realize\n",
    "even more interesting blending. Also note how this makes use of\n",
    "different ways to specify (css) colors. This example is a good reference\n",
    "to test WebGL blending."
   ]
  },
  {
   "cell_type": "code",
   "execution_count": 2,
   "metadata": {
    "collapsed": true
   },
   "outputs": [],
   "source": [
    "from bokeh.plotting import figure, show, output_file  # => output_notebook\n",
    "from bokeh.sampledata.iris import flowers\n",
    "\n",
    "colormap1 = {'setosa': 'rgb(255, 0, 0)',\n",
    "             'versicolor': 'rgb(0, 255, 0)',\n",
    "             'virginica': 'rgb(0, 0, 255)'}\n",
    "colors1 = [colormap1[x] for x in flowers['species']]\n",
    "\n",
    "colormap2 = {'setosa': '#0f0', 'versicolor': '#0f0', 'virginica': '#f00'}\n",
    "colors2 = [colormap2[x] for x in flowers['species']]\n",
    "\n",
    "p = figure(title = \"Iris Morphology\", webgl=True)\n",
    "p.xaxis.axis_label = 'Petal Length'\n",
    "p.yaxis.axis_label = 'Petal Width'\n",
    "\n",
    "p.diamond(flowers[\"petal_length\"], flowers[\"petal_width\"],\n",
    "          color=colors1, line_alpha=0.5, fill_alpha=0.2, size=25, legend='diamonds')\n",
    "\n",
    "p.circle(flowers[\"petal_length\"], flowers[\"petal_width\"],\n",
    "         color=colors2, line_alpha=0.5, fill_alpha=0.2, size=10, legend='circles')\n",
    "\n",
    "output_file(\"iris_blend.html\", title=\"iris_blend.py example\")\n",
    "\n",
    "show(p)"
   ]
  },
  {
   "cell_type": "code",
   "execution_count": null,
   "metadata": {
    "collapsed": true
   },
   "outputs": [],
   "source": []
  }
 ],
 "metadata": {
  "kernelspec": {
   "display_name": "Python 3",
   "language": "python",
   "name": "python3"
  },
  "language_info": {
   "codemirror_mode": {
    "name": "ipython",
    "version": 3
   },
   "file_extension": ".py",
   "mimetype": "text/x-python",
   "name": "python",
   "nbconvert_exporter": "python",
   "pygments_lexer": "ipython3",
   "version": "3.5.1"
  }
 },
 "nbformat": 4,
 "nbformat_minor": 0
}
