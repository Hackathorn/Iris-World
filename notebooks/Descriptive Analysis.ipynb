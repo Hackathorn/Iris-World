{
 "cells": [
  {
   "cell_type": "markdown",
   "metadata": {},
   "source": [
    "# Descriptive Analysis of Dataset\n",
    "\n",
    "Author: Richard Hackathorn\n",
    "\n",
    "License: [CC-BY 3.0](https://creativecommons.org/licenses/by/3.0/ \"Creative Commons - Attribution\")\n",
    "\n",
    "References: scikit-learn, seaborn, Python Machine Language book, \n",
    "\n",
    "1. General statistics (mean, \n",
    "2. "
   ]
  },
  {
   "cell_type": "code",
   "execution_count": null,
   "metadata": {
    "collapsed": true
   },
   "outputs": [],
   "source": []
  }
 ],
 "metadata": {
  "kernelspec": {
   "display_name": "Python 3",
   "language": "python",
   "name": "python3"
  },
  "language_info": {
   "codemirror_mode": {
    "name": "ipython",
    "version": 3
   },
   "file_extension": ".py",
   "mimetype": "text/x-python",
   "name": "python",
   "nbconvert_exporter": "python",
   "pygments_lexer": "ipython3",
   "version": "3.5.1"
  }
 },
 "nbformat": 4,
 "nbformat_minor": 0
}
