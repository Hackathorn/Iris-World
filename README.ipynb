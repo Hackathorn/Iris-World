{
 "cells": [
  {
   "cell_type": "markdown",
   "metadata": {},
   "source": [
    "<a href=\"http://www.immersiveanalytics.com/\">\n",
    "   <img src=\"http://www.immersiveanalytics.com/wp-content/uploads/2015/08/Immersive-Analytics-Logo-2015_03.png\">\n",
    "</a>\n",
    "\n",
    "# Iris World - Classifier Study using Iris Dataset\n",
    "\n",
    "![Iris Flower](./images/IrisFlowerSmall-Photo by DAVID ILIFF CC-BY-SA 3.jpg)\n",
    "**...IA world about classifiers using the Iris dataset**\n",
    "\n",
    "Explain more about this IA world. What is its purpose, contents, etc.\n",
    "\n",
    "## Table of Contents\n",
    "\n",
    "1. Data Preparation [[dir](./notebooks/)] [[ipynb](./notebooks/IrisClassifiers-DataPrep.ipynb)] [[nbviewer](http://nbviewer.ipython.org/github/hackathorn/iris_world/notebooks/IrisClassifiers-DataPrep.ipynb)]\n",
    "\n",
    "## FAQ\n",
    "\n",
    "- [What is Immersive Analytics?](./faq/WhatIsImmersiveAnalytics.md)\n",
    "\n",
    "## Links to Resources \n",
    "\n",
    "- [Immersive Analytics community website](http://www.immersiveanalytics.com/)\n",
    "\n",
    "\n",
    "## Contact\n",
    "\n",
    "I am happy to answer questions! Just email me at [email](mailto:richardh@bolder.com)\n",
    "or start a discussion on our [LinkedIn group blog](https://www.linkedin.com/groups/8344300).\n",
    "\n",
    "### What's Next\n",
    "\n",
    "- More about the Iris World\n"
   ]
  },
  {
   "cell_type": "code",
   "execution_count": null,
   "metadata": {
    "collapsed": true
   },
   "outputs": [],
   "source": []
  }
 ],
 "metadata": {
  "kernelspec": {
   "display_name": "Python 3",
   "language": "python",
   "name": "python3"
  },
  "language_info": {
   "codemirror_mode": {
    "name": "ipython",
    "version": 3
   },
   "file_extension": ".py",
   "mimetype": "text/x-python",
   "name": "python",
   "nbconvert_exporter": "python",
   "pygments_lexer": "ipython3",
   "version": "3.5.1"
  }
 },
 "nbformat": 4,
 "nbformat_minor": 0
}
